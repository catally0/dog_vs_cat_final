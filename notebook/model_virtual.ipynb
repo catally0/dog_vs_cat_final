{
 "cells": [
  {
   "cell_type": "code",
   "execution_count": 1,
   "metadata": {},
   "outputs": [
    {
     "name": "stderr",
     "output_type": "stream",
     "text": [
      "/home/ubuntu/anaconda3/envs/tensorflow_p36/lib/python3.6/site-packages/h5py/__init__.py:36: FutureWarning: Conversion of the second argument of issubdtype from `float` to `np.floating` is deprecated. In future, it will be treated as `np.float64 == np.dtype(float).type`.\n",
      "  from ._conv import register_converters as _register_converters\n",
      "Using TensorFlow backend.\n",
      "/home/ubuntu/anaconda3/envs/tensorflow_p36/lib/python3.6/site-packages/matplotlib/__init__.py:1067: UserWarning: Duplicate key in file \"/home/ubuntu/.config/matplotlib/matplotlibrc\", line #2\n",
      "  (fname, cnt))\n",
      "/home/ubuntu/anaconda3/envs/tensorflow_p36/lib/python3.6/site-packages/matplotlib/__init__.py:1067: UserWarning: Duplicate key in file \"/home/ubuntu/.config/matplotlib/matplotlibrc\", line #3\n",
      "  (fname, cnt))\n"
     ]
    }
   ],
   "source": [
    "import keras"
   ]
  },
  {
   "cell_type": "code",
   "execution_count": 2,
   "metadata": {},
   "outputs": [],
   "source": [
    "InceptionV3_obj = keras.applications.inception_v3.InceptionV3(\n",
    "    weights=None, input_shape=(299,299,3), include_top=False, pooling='avg')\n",
    "Xception_obj = keras.applications.xception.Xception(\n",
    "    weights=None, input_shape=(299,299,3), include_top=False, pooling='avg')\n",
    "InceptionResNetV2_obj = keras.applications.inception_resnet_v2.InceptionResNetV2(\n",
    "    weights=None, input_shape=(299,299,3), include_top=False, pooling='avg')\n",
    "\n",
    "for layer in InceptionV3_obj.layers:\n",
    "    layer.trainable = False \n",
    "for layer in Xception_obj.layers:\n",
    "    layer.trainable = False\n",
    "for layer in InceptionResNetV2_obj.layers:\n",
    "    layer.trainable = False"
   ]
  },
  {
   "cell_type": "code",
   "execution_count": 5,
   "metadata": {},
   "outputs": [],
   "source": [
    "input_layer = keras.Input((299, 299, 3))\n",
    "a = InceptionV3_obj(input_layer)  \n",
    "b = Xception_obj(input_layer) \n",
    "c = InceptionResNetV2_obj(input_layer) \n",
    "\n",
    "x = keras.layers.Concatenate()([a,b,c])\n",
    "x = keras.layers.Dropout(0.25)(x)\n",
    "x = keras.layers.Dense(1, activation='sigmoid')(x)\n",
    "\n",
    "model_obj = keras.models.Model(inputs=input_layer, outputs=x)"
   ]
  },
  {
   "cell_type": "code",
   "execution_count": 6,
   "metadata": {},
   "outputs": [
    {
     "data": {
      "image/svg+xml": [
       "<svg height=\"337pt\" viewBox=\"0.00 0.00 452.50 337.00\" width=\"453pt\" xmlns=\"http://www.w3.org/2000/svg\" xmlns:xlink=\"http://www.w3.org/1999/xlink\">\n",
       "<g class=\"graph\" id=\"graph0\" transform=\"scale(1 1) rotate(0) translate(4 333)\">\n",
       "<title>G</title>\n",
       "<polygon fill=\"#ffffff\" points=\"-4,4 -4,-333 448.5,-333 448.5,4 -4,4\" stroke=\"transparent\"/>\n",
       "<!-- 139657608653512 -->\n",
       "<g class=\"node\" id=\"node1\">\n",
       "<title>139657608653512</title>\n",
       "<polygon fill=\"none\" points=\"140,-292.5 140,-328.5 265,-328.5 265,-292.5 140,-292.5\" stroke=\"#000000\"/>\n",
       "<text fill=\"#000000\" font-family=\"Times,serif\" font-size=\"14.00\" text-anchor=\"middle\" x=\"202.5\" y=\"-306.8\">input_6: InputLayer</text>\n",
       "</g>\n",
       "<!-- 139658687715312 -->\n",
       "<g class=\"node\" id=\"node2\">\n",
       "<title>139658687715312</title>\n",
       "<polygon fill=\"none\" points=\"0,-219.5 0,-255.5 131,-255.5 131,-219.5 0,-219.5\" stroke=\"#000000\"/>\n",
       "<text fill=\"#000000\" font-family=\"Times,serif\" font-size=\"14.00\" text-anchor=\"middle\" x=\"65.5\" y=\"-233.8\">inception_v3: Model</text>\n",
       "</g>\n",
       "<!-- 139657608653512&#45;&gt;139658687715312 -->\n",
       "<g class=\"edge\" id=\"edge1\">\n",
       "<title>139657608653512-&gt;139658687715312</title>\n",
       "<path d=\"M168.6348,-292.4551C150.4393,-282.7596 127.8193,-270.7066 108.4036,-260.361\" fill=\"none\" stroke=\"#000000\"/>\n",
       "<polygon fill=\"#000000\" points=\"109.9216,-257.2041 99.4504,-255.5904 106.6298,-263.3818 109.9216,-257.2041\" stroke=\"#000000\"/>\n",
       "</g>\n",
       "<!-- 139658631506688 -->\n",
       "<g class=\"node\" id=\"node3\">\n",
       "<title>139658631506688</title>\n",
       "<polygon fill=\"none\" points=\"149,-219.5 149,-255.5 256,-255.5 256,-219.5 149,-219.5\" stroke=\"#000000\"/>\n",
       "<text fill=\"#000000\" font-family=\"Times,serif\" font-size=\"14.00\" text-anchor=\"middle\" x=\"202.5\" y=\"-233.8\">xception: Model</text>\n",
       "</g>\n",
       "<!-- 139657608653512&#45;&gt;139658631506688 -->\n",
       "<g class=\"edge\" id=\"edge2\">\n",
       "<title>139657608653512-&gt;139658631506688</title>\n",
       "<path d=\"M202.5,-292.4551C202.5,-284.3828 202.5,-274.6764 202.5,-265.6817\" fill=\"none\" stroke=\"#000000\"/>\n",
       "<polygon fill=\"#000000\" points=\"206.0001,-265.5903 202.5,-255.5904 199.0001,-265.5904 206.0001,-265.5903\" stroke=\"#000000\"/>\n",
       "</g>\n",
       "<!-- 139658349706656 -->\n",
       "<g class=\"node\" id=\"node4\">\n",
       "<title>139658349706656</title>\n",
       "<polygon fill=\"none\" points=\"274.5,-219.5 274.5,-255.5 444.5,-255.5 444.5,-219.5 274.5,-219.5\" stroke=\"#000000\"/>\n",
       "<text fill=\"#000000\" font-family=\"Times,serif\" font-size=\"14.00\" text-anchor=\"middle\" x=\"359.5\" y=\"-233.8\">inception_resnet_v2: Model</text>\n",
       "</g>\n",
       "<!-- 139657608653512&#45;&gt;139658349706656 -->\n",
       "<g class=\"edge\" id=\"edge3\">\n",
       "<title>139657608653512-&gt;139658349706656</title>\n",
       "<path d=\"M241.309,-292.4551C262.4439,-282.628 288.7878,-270.3789 311.2371,-259.9407\" fill=\"none\" stroke=\"#000000\"/>\n",
       "<polygon fill=\"#000000\" points=\"313.0013,-262.9803 320.5933,-255.5904 310.0499,-256.6329 313.0013,-262.9803\" stroke=\"#000000\"/>\n",
       "</g>\n",
       "<!-- 139657608654296 -->\n",
       "<g class=\"node\" id=\"node5\">\n",
       "<title>139657608654296</title>\n",
       "<polygon fill=\"none\" points=\"118.5,-146.5 118.5,-182.5 286.5,-182.5 286.5,-146.5 118.5,-146.5\" stroke=\"#000000\"/>\n",
       "<text fill=\"#000000\" font-family=\"Times,serif\" font-size=\"14.00\" text-anchor=\"middle\" x=\"202.5\" y=\"-160.8\">concatenate_5: Concatenate</text>\n",
       "</g>\n",
       "<!-- 139658687715312&#45;&gt;139657608654296 -->\n",
       "<g class=\"edge\" id=\"edge4\">\n",
       "<title>139658687715312-&gt;139657608654296</title>\n",
       "<path d=\"M99.3652,-219.4551C117.5607,-209.7596 140.1807,-197.7066 159.5964,-187.361\" fill=\"none\" stroke=\"#000000\"/>\n",
       "<polygon fill=\"#000000\" points=\"161.3702,-190.3818 168.5496,-182.5904 158.0784,-184.2041 161.3702,-190.3818\" stroke=\"#000000\"/>\n",
       "</g>\n",
       "<!-- 139658631506688&#45;&gt;139657608654296 -->\n",
       "<g class=\"edge\" id=\"edge5\">\n",
       "<title>139658631506688-&gt;139657608654296</title>\n",
       "<path d=\"M202.5,-219.4551C202.5,-211.3828 202.5,-201.6764 202.5,-192.6817\" fill=\"none\" stroke=\"#000000\"/>\n",
       "<polygon fill=\"#000000\" points=\"206.0001,-192.5903 202.5,-182.5904 199.0001,-192.5904 206.0001,-192.5903\" stroke=\"#000000\"/>\n",
       "</g>\n",
       "<!-- 139658349706656&#45;&gt;139657608654296 -->\n",
       "<g class=\"edge\" id=\"edge6\">\n",
       "<title>139658349706656-&gt;139657608654296</title>\n",
       "<path d=\"M320.691,-219.4551C299.5561,-209.628 273.2122,-197.3789 250.7629,-186.9407\" fill=\"none\" stroke=\"#000000\"/>\n",
       "<polygon fill=\"#000000\" points=\"251.9501,-183.6329 241.4067,-182.5904 248.9987,-189.9803 251.9501,-183.6329\" stroke=\"#000000\"/>\n",
       "</g>\n",
       "<!-- 139657607139280 -->\n",
       "<g class=\"node\" id=\"node6\">\n",
       "<title>139657607139280</title>\n",
       "<polygon fill=\"none\" points=\"140,-73.5 140,-109.5 265,-109.5 265,-73.5 140,-73.5\" stroke=\"#000000\"/>\n",
       "<text fill=\"#000000\" font-family=\"Times,serif\" font-size=\"14.00\" text-anchor=\"middle\" x=\"202.5\" y=\"-87.8\">dropout_3: Dropout</text>\n",
       "</g>\n",
       "<!-- 139657608654296&#45;&gt;139657607139280 -->\n",
       "<g class=\"edge\" id=\"edge7\">\n",
       "<title>139657608654296-&gt;139657607139280</title>\n",
       "<path d=\"M202.5,-146.4551C202.5,-138.3828 202.5,-128.6764 202.5,-119.6817\" fill=\"none\" stroke=\"#000000\"/>\n",
       "<polygon fill=\"#000000\" points=\"206.0001,-119.5903 202.5,-109.5904 199.0001,-119.5904 206.0001,-119.5903\" stroke=\"#000000\"/>\n",
       "</g>\n",
       "<!-- 139657607794584 -->\n",
       "<g class=\"node\" id=\"node7\">\n",
       "<title>139657607794584</title>\n",
       "<polygon fill=\"none\" points=\"151.5,-.5 151.5,-36.5 253.5,-36.5 253.5,-.5 151.5,-.5\" stroke=\"#000000\"/>\n",
       "<text fill=\"#000000\" font-family=\"Times,serif\" font-size=\"14.00\" text-anchor=\"middle\" x=\"202.5\" y=\"-14.8\">dense_3: Dense</text>\n",
       "</g>\n",
       "<!-- 139657607139280&#45;&gt;139657607794584 -->\n",
       "<g class=\"edge\" id=\"edge8\">\n",
       "<title>139657607139280-&gt;139657607794584</title>\n",
       "<path d=\"M202.5,-73.4551C202.5,-65.3828 202.5,-55.6764 202.5,-46.6817\" fill=\"none\" stroke=\"#000000\"/>\n",
       "<polygon fill=\"#000000\" points=\"206.0001,-46.5903 202.5,-36.5904 199.0001,-46.5904 206.0001,-46.5903\" stroke=\"#000000\"/>\n",
       "</g>\n",
       "</g>\n",
       "</svg>"
      ],
      "text/plain": [
       "<IPython.core.display.SVG object>"
      ]
     },
     "execution_count": 6,
     "metadata": {},
     "output_type": "execute_result"
    }
   ],
   "source": [
    "# 可视化模型\n",
    "keras.utils.plot_model(model_obj, to_file='model_virtual.png')\n",
    "\n",
    "from IPython.display import SVG\n",
    "from keras.utils.vis_utils import model_to_dot\n",
    "SVG(model_to_dot(model_obj).create(prog='dot', format='svg'))"
   ]
  },
  {
   "cell_type": "code",
   "execution_count": null,
   "metadata": {},
   "outputs": [],
   "source": []
  }
 ],
 "metadata": {
  "kernelspec": {
   "display_name": "Python [default]",
   "language": "python",
   "name": "python3"
  },
  "language_info": {
   "codemirror_mode": {
    "name": "ipython",
    "version": 3
   },
   "file_extension": ".py",
   "mimetype": "text/x-python",
   "name": "python",
   "nbconvert_exporter": "python",
   "pygments_lexer": "ipython3",
   "version": "3.6.5"
  }
 },
 "nbformat": 4,
 "nbformat_minor": 2
}
