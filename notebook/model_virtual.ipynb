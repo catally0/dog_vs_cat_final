{
 "cells": [
  {
   "cell_type": "code",
   "execution_count": 1,
   "metadata": {},
   "outputs": [
    {
     "name": "stderr",
     "output_type": "stream",
     "text": [
      "/home/ubuntu/anaconda3/envs/tensorflow_p36/lib/python3.6/site-packages/h5py/__init__.py:36: FutureWarning: Conversion of the second argument of issubdtype from `float` to `np.floating` is deprecated. In future, it will be treated as `np.float64 == np.dtype(float).type`.\n",
      "  from ._conv import register_converters as _register_converters\n",
      "Using TensorFlow backend.\n",
      "/home/ubuntu/anaconda3/envs/tensorflow_p36/lib/python3.6/site-packages/matplotlib/__init__.py:1067: UserWarning: Duplicate key in file \"/home/ubuntu/.config/matplotlib/matplotlibrc\", line #2\n",
      "  (fname, cnt))\n",
      "/home/ubuntu/anaconda3/envs/tensorflow_p36/lib/python3.6/site-packages/matplotlib/__init__.py:1067: UserWarning: Duplicate key in file \"/home/ubuntu/.config/matplotlib/matplotlibrc\", line #3\n",
      "  (fname, cnt))\n"
     ]
    }
   ],
   "source": [
    "import keras"
   ]
  },
  {
   "cell_type": "code",
   "execution_count": 2,
   "metadata": {},
   "outputs": [],
   "source": [
    "InceptionV3_obj = keras.applications.inception_v3.InceptionV3(\n",
    "    weights=None, input_shape=(299,299,3), include_top=False, pooling='avg')\n",
    "Xception_obj = keras.applications.xception.Xception(\n",
    "    weights=None, input_shape=(299,299,3), include_top=False, pooling='avg')\n",
    "InceptionResNetV2_obj = keras.applications.inception_resnet_v2.InceptionResNetV2(\n",
    "    weights=None, input_shape=(299,299,3), include_top=False, pooling='avg')\n",
    "\n",
    "for layer in InceptionV3_obj.layers:\n",
    "    layer.trainable = False \n",
    "for layer in Xception_obj.layers:\n",
    "    layer.trainable = False\n",
    "for layer in InceptionResNetV2_obj.layers:\n",
    "    layer.trainable = False"
   ]
  },
  {
   "cell_type": "code",
   "execution_count": 5,
   "metadata": {},
   "outputs": [],
   "source": [
    "input_layer = keras.Input((299, 299, 3))\n",
    "a = InceptionV3_obj(input_layer)  \n",
    "b = Xception_obj(input_layer) \n",
    "c = InceptionResNetV2_obj(input_layer) \n",
    "\n",
    "x = keras.layers.Concatenate()([a,b,c])\n",
    "x = keras.layers.Dropout(0.25)(x)\n",
    "x = keras.layers.Dense(1, activation='sigmoid')(x)\n",
    "\n",
    "model_obj = keras.models.Model(inputs=input_layer, outputs=x)"
   ]
  },
  {
   "cell_type": "code",
   "execution_count": null,
   "metadata": {},
   "outputs": [],
   "source": [
    "# 可视化模型\n",
    "keras.utils.plot_model(model_obj, to_file='model_virtual.png')\n",
    "\n",
    "from IPython.display import SVG\n",
    "from keras.utils.vis_utils import model_to_dot\n",
    "SVG(model_to_dot(model_obj).create(prog='dot', format='svg'))"
   ]
  },
  {
   "cell_type": "code",
   "execution_count": null,
   "metadata": {},
   "outputs": [],
   "source": []
  }
 ],
 "metadata": {
  "kernelspec": {
   "display_name": "Python [default]",
   "language": "python",
   "name": "python3"
  },
  "language_info": {
   "codemirror_mode": {
    "name": "ipython",
    "version": 3
   },
   "file_extension": ".py",
   "mimetype": "text/x-python",
   "name": "python",
   "nbconvert_exporter": "python",
   "pygments_lexer": "ipython3",
   "version": "3.6.5"
  }
 },
 "nbformat": 4,
 "nbformat_minor": 2
}
