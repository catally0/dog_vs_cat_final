{
 "cells": [
  {
   "cell_type": "code",
   "execution_count": 6,
   "metadata": {},
   "outputs": [
    {
     "name": "stderr",
     "output_type": "stream",
     "text": [
      "Using TensorFlow backend.\n"
     ]
    }
   ],
   "source": [
    "import keras"
   ]
  },
  {
   "cell_type": "code",
   "execution_count": 2,
   "metadata": {},
   "outputs": [],
   "source": [
    "InceptionV3_obj = keras.applications.inception_v3.InceptionV3(\n",
    "    weights=None, input_shape=(299,299,3), include_top=False, pooling='avg')\n",
    "Xception_obj = keras.applications.xception.Xception(\n",
    "    weights=None, input_shape=(299,299,3), include_top=False, pooling='avg')\n",
    "InceptionResNetV2_obj = keras.applications.inception_resnet_v2.InceptionResNetV2(\n",
    "    weights=None, input_shape=(299,299,3), include_top=False, pooling='avg')\n",
    "\n",
    "for layer in InceptionV3_obj.layers:\n",
    "    layer.trainable = False \n",
    "for layer in Xception_obj.layers:\n",
    "    layer.trainable = False\n",
    "for layer in InceptionResNetV2_obj.layers:\n",
    "    layer.trainable = False"
   ]
  },
  {
   "cell_type": "code",
   "execution_count": 5,
   "metadata": {},
   "outputs": [],
   "source": [
    "input_layer = keras.Input((299, 299, 3))\n",
    "a = InceptionV3_obj(input_layer)  \n",
    "b = Xception_obj(input_layer) \n",
    "c = InceptionResNetV2_obj(input_layer) \n",
    "\n",
    "x = keras.layers.Concatenate()([a,b,c])\n",
    "x = keras.layers.Dropout(0.25)(x)\n",
    "x = keras.layers.Dense(1, activation='sigmoid')(x)\n",
    "\n",
    "model_obj = Model(inputs=input_tensor, outputs=x)"
   ]
  },
  {
   "cell_type": "code",
   "execution_count": null,
   "metadata": {},
   "outputs": [],
   "source": [
    "# 可视化模型\n",
    "keras.utils.plot_model(model_obj, to_file='model_virtual.png')\n",
    "\n",
    "from IPython.display import SVG\n",
    "from keras.utils.vis_utils import model_to_dot\n",
    "SVG(model_to_dot(model_obj).create(prog='dot', format='svg'))"
   ]
  }
 ],
 "metadata": {
  "kernelspec": {
   "display_name": "Python 3",
   "language": "python",
   "name": "python3"
  }
 },
 "nbformat": 4,
 "nbformat_minor": 2
}
