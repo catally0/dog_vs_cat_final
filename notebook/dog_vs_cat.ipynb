{
 "cells": [
  {
   "cell_type": "markdown",
   "metadata": {},
   "source": [
    "## 检测python版本\n",
    "这里我们使用的python的版本为3.6.5"
   ]
  },
  {
   "cell_type": "code",
   "execution_count": 1,
   "metadata": {},
   "outputs": [
    {
     "data": {
      "text/plain": [
       "'3.6.4 |Anaconda, Inc.| (default, Jan 16 2018, 18:10:19) \\n[GCC 7.2.0]'"
      ]
     },
     "execution_count": 1,
     "metadata": {},
     "output_type": "execute_result"
    }
   ],
   "source": [
    "import sys\n",
    "sys.version"
   ]
  },
  {
   "cell_type": "markdown",
   "metadata": {},
   "source": [
    "## 数据预处理\n",
    "为了更好的训练模型，这里对数据进行一定程度对预处理\n",
    "- 删除训练数据集中过大（`500*500`以上）和过小（`100*100`以下）的图片。\n",
    "- 将图片按照一定的目录结构归类。\n",
    "- 删除错误标记的图片。"
   ]
  },
  {
   "cell_type": "code",
   "execution_count": 2,
   "metadata": {},
   "outputs": [
    {
     "name": "stdout",
     "output_type": "stream",
     "text": [
      "33\n"
     ]
    }
   ],
   "source": [
    "import os, shutil\n",
    "from PIL import Image\n",
    "\n",
    "# 删除被错误标记的图片\n",
    "def pick_err_flag(path, bad_path):\n",
    "    bad_list = ['cat.92.jpg',    'cat.724.jpg',   'cat.1450.jpg',  'cat.3216.jpg', 'cat.3822.jpg', 'cat.5351.jpg',\n",
    "                'cat.5418.jpg',  'cat.7377.jpg',  'cat.7564.jpg',  'cat.8456.jpg', 'cat.9171.jpg', 'cat.10029.jpg',\n",
    "                'cat.10712.jpg', 'cat.11184.jpg', 'dog.1259.jpg',  'dog.1835.jpg', 'dog.2614.jpg', 'dog.3889.jpg',\n",
    "                'dog.4367.jpg',  'dog.5604.jpg',  'dog.8736.jpg',  'dog.8898.jpg', 'dog.9517.jpg', 'dog.10161.jpg',\n",
    "                'dog.10190.jpg', 'dog.10237.jpg', 'dog.10401.jpg', 'dog.10797.jpg','dog.10801.jpg','dog.11186.jpg',\n",
    "                'dog.11299.jpg', 'dog.12376.jpg', 'dog.10747.jpg']\n",
    "    for img_name in bad_list:\n",
    "        im_path = os.path.join(path, img_name)\n",
    "        if os.path.exists(im_path):\n",
    "            shutil.move(im_path, os.path.join(bad_path, img_name))\n",
    "    print(len(bad_list))\n",
    "\n",
    "pick_err_flag(\"data/train\", \"data/train_bad\")"
   ]
  },
  {
   "cell_type": "code",
   "execution_count": 3,
   "metadata": {},
   "outputs": [
    {
     "name": "stdout",
     "output_type": "stream",
     "text": [
      "200\n"
     ]
    }
   ],
   "source": [
    "# 删除不合尺寸\n",
    "def pick_bad_pics(path, bad_path):\n",
    "    bad_list = []\n",
    "    img_list = os.listdir(path)\n",
    "    for img_name in img_list:\n",
    "        im_path = os.path.join(path, img_name)\n",
    "        im = Image.open(im_path)\n",
    "        w, h = im.size\n",
    "        if w > 500 or h > 500 or w < 100 or h < 100:\n",
    "            bad_list.append(img_name)\n",
    "            shutil.move(im_path, os.path.join(bad_path, img_name))\n",
    "    print(len(bad_list))\n",
    "\n",
    "pick_bad_pics(\"data/train\", \"data/train_bad\")"
   ]
  },
  {
   "cell_type": "markdown",
   "metadata": {},
   "source": [
    "## 读取加载数据集，归一化处理\n",
    "将用于训练的数据集加载到内存，等待处理。主要是转化为ndarray类型到数据，方便后续到计算和处理.因为选择到预训练模型，对于图片到要求都是`299*299`大小，这里我们读取数据时，图片统一调整到这个尺寸。\n",
    "- 加载训练集数据。\n",
    "- 加载测试集数据。\n",
    "- 输出一个经过正规化的、Numpy array 格式的图像数据。"
   ]
  },
  {
   "cell_type": "code",
   "execution_count": 2,
   "metadata": {},
   "outputs": [],
   "source": [
    "import glob, cv2\n",
    "import numpy as np\n",
    "from tqdm import tqdm\n",
    "\n",
    "# 加载训练集\n",
    "def load_train_data():\n",
    "\n",
    "    cat = glob.glob(\"data/train/cat.*.jpg\")\n",
    "    dog = glob.glob(\"data/train/dog.*.jpg\")\n",
    "    train_data = np.zeros(((len(cat)+len(dog)), 299, 299, 3), dtype=np.uint8)\n",
    "    train_targ = np.array([0]*len(cat) + [1]*len(dog))\n",
    "\n",
    "    i = 0\n",
    "    for img_name in tqdm(cat):\n",
    "        img = cv2.imread(img_name)\n",
    "        train_data[i] = cv2.resize(img,(299, 299))\n",
    "        i += 1\n",
    "    for img_name in tqdm(dog):\n",
    "        img = cv2.imread(img_name)\n",
    "        train_data[i] = cv2.resize(img,(299, 299))\n",
    "        i += 1\n",
    "\n",
    "    return train_data, train_targ\n",
    "\n",
    "# 加载测试集\n",
    "def load_test_data():\n",
    "\n",
    "    test = glob.glob(\"data/test/*.jpg\")\n",
    "    test_data = np.zeros((len(test), 299, 299, 3), dtype=np.uint8)\n",
    "    \n",
    "    i = 0\n",
    "    for img_name in tqdm(test):\n",
    "        img = cv2.imread(img_name)\n",
    "        test_data[i] = cv2.resize(img,(299, 299))\n",
    "        i += 1\n",
    "    \n",
    "    return test_data"
   ]
  },
  {
   "cell_type": "code",
   "execution_count": 3,
   "metadata": {},
   "outputs": [
    {
     "name": "stderr",
     "output_type": "stream",
     "text": [
      "100%|██████████| 12387/12387 [00:39<00:00, 314.94it/s]\n",
      "100%|██████████| 12380/12380 [00:40<00:00, 307.01it/s]\n"
     ]
    }
   ],
   "source": [
    "# 处理，加载训练集数据\n",
    "train_data, train_targ = load_train_data()"
   ]
  },
  {
   "cell_type": "code",
   "execution_count": null,
   "metadata": {},
   "outputs": [
    {
     "name": "stderr",
     "output_type": "stream",
     "text": [
      " 67%|██████▋   | 8428/12500 [00:26<00:13, 312.52it/s]"
     ]
    }
   ],
   "source": [
    "# 处理，加载测试集数据\n",
    "test_data = load_test_data()"
   ]
  },
  {
   "cell_type": "code",
   "execution_count": null,
   "metadata": {},
   "outputs": [],
   "source": [
    "print(train_data.shape, train_targ.shape, test_data.shape)"
   ]
  },
  {
   "cell_type": "markdown",
   "metadata": {},
   "source": [
    "## 拆分验证集\n",
    "对标记数据进行处理，拆分验证集"
   ]
  },
  {
   "cell_type": "code",
   "execution_count": 7,
   "metadata": {},
   "outputs": [],
   "source": [
    "from sklearn.model_selection import train_test_split\n",
    "\n",
    "# 划分数据\n",
    "x_train, x_valid, y_train, y_valid = train_test_split(train_data, train_targ, test_size=0.2)"
   ]
  },
  {
   "cell_type": "markdown",
   "metadata": {},
   "source": [
    "## 模型InceptionV3\n",
    "预训练模型InceptionV3"
   ]
  },
  {
   "cell_type": "code",
   "execution_count": 8,
   "metadata": {},
   "outputs": [
    {
     "name": "stderr",
     "output_type": "stream",
     "text": [
      "/home/ubuntu/anaconda3/envs/tensorflow_p36/lib/python3.6/site-packages/h5py/__init__.py:36: FutureWarning: Conversion of the second argument of issubdtype from `float` to `np.floating` is deprecated. In future, it will be treated as `np.float64 == np.dtype(float).type`.\n",
      "  from ._conv import register_converters as _register_converters\n",
      "Using TensorFlow backend.\n",
      "/home/ubuntu/anaconda3/envs/tensorflow_p36/lib/python3.6/site-packages/matplotlib/__init__.py:1067: UserWarning: Duplicate key in file \"/home/ubuntu/.config/matplotlib/matplotlibrc\", line #2\n",
      "  (fname, cnt))\n",
      "/home/ubuntu/anaconda3/envs/tensorflow_p36/lib/python3.6/site-packages/matplotlib/__init__.py:1067: UserWarning: Duplicate key in file \"/home/ubuntu/.config/matplotlib/matplotlibrc\", line #3\n",
      "  (fname, cnt))\n"
     ]
    },
    {
     "name": "stdout",
     "output_type": "stream",
     "text": [
      "InceptionV3 has 315 layers.\n"
     ]
    }
   ],
   "source": [
    "import keras\n",
    "import pandas as pd\n",
    "\n",
    "# 构建InceptionV3\n",
    "def buid_inceptionv3():\n",
    "\n",
    "    # 获取基础模型，不保留顶层的全连接网络\n",
    "    input_tensor = keras.Input(shape=(299, 299, 3)) \n",
    "    input_tensor = keras.layers.Lambda(keras.applications.inception_v3.preprocess_input)(input_tensor)\n",
    "    base_model   = keras.applications.inception_v3.InceptionV3(input_tensor=input_tensor, include_top=False)\n",
    "\n",
    "    # 锁定模型，保护处理\n",
    "    for layer in base_model.layers:\n",
    "        layer.trainable = False\n",
    "\n",
    "    # 空域信号施加全局平均池化，dropout处理防止过拟合，重建全连接层\n",
    "    x = keras.layers.GlobalAveragePooling2D()(base_model.output)\n",
    "    x = keras.layers.Dropout(0.4)(x)\n",
    "    x = keras.layers.Dense(1, activation='sigmoid')(x)\n",
    "\n",
    "    # 配置模型\n",
    "    result = keras.models.Model(inputs=base_model.input, outputs=x)\n",
    "    result.compile(optimizer='adadelta', loss='binary_crossentropy', metrics=['accuracy'])\n",
    "\n",
    "    # 返回\n",
    "    print('InceptionV3 has %d layers.' % len(result.layers))\n",
    "    return result\n",
    "\n",
    "# 创建\n",
    "inceptionv3_obj = buid_inceptionv3()"
   ]
  },
  {
   "cell_type": "code",
   "execution_count": 9,
   "metadata": {},
   "outputs": [],
   "source": [
    "# 可视化模型\n",
    "#keras.utils.plot_model(inceptionv3_obj, to_file='model_inceptionv3.png')\n",
    "#from IPython.display import SVG\n",
    "#from keras.utils.vis_utils import model_to_dot\n",
    "#SVG(model_to_dot(inceptionv3_obj).create(prog='dot', format='svg'))"
   ]
  },
  {
   "cell_type": "code",
   "execution_count": 10,
   "metadata": {},
   "outputs": [
    {
     "name": "stdout",
     "output_type": "stream",
     "text": [
      "Train on 19813 samples, validate on 4954 samples\n",
      "Epoch 1/10\n",
      "19813/19813 [==============================] - 286s 14ms/step - loss: 0.2033 - acc: 0.9290 - val_loss: 0.0484 - val_acc: 0.9903\n",
      "Epoch 2/10\n",
      "19813/19813 [==============================] - 277s 14ms/step - loss: 0.1057 - acc: 0.9628 - val_loss: 0.0658 - val_acc: 0.9794\n",
      "Epoch 3/10\n",
      "19813/19813 [==============================] - 277s 14ms/step - loss: 0.0910 - acc: 0.9664 - val_loss: 0.1326 - val_acc: 0.9532\n",
      "Epoch 4/10\n",
      "19813/19813 [==============================] - 277s 14ms/step - loss: 0.0876 - acc: 0.9680 - val_loss: 0.0704 - val_acc: 0.9782\n",
      "Epoch 5/10\n",
      "19813/19813 [==============================] - 277s 14ms/step - loss: 0.0853 - acc: 0.9669 - val_loss: 0.0593 - val_acc: 0.9820\n",
      "Epoch 6/10\n",
      "19813/19813 [==============================] - 277s 14ms/step - loss: 0.0852 - acc: 0.9684 - val_loss: 0.0975 - val_acc: 0.9671\n",
      "Epoch 7/10\n",
      "19813/19813 [==============================] - 277s 14ms/step - loss: 0.0822 - acc: 0.9686 - val_loss: 0.1360 - val_acc: 0.9556\n",
      "Epoch 8/10\n",
      "19813/19813 [==============================] - 277s 14ms/step - loss: 0.0810 - acc: 0.9686 - val_loss: 0.0788 - val_acc: 0.9766\n",
      "Epoch 9/10\n",
      "19813/19813 [==============================] - 277s 14ms/step - loss: 0.0804 - acc: 0.9694 - val_loss: 0.0502 - val_acc: 0.9851\n",
      "Epoch 10/10\n",
      "19813/19813 [==============================] - 277s 14ms/step - loss: 0.0801 - acc: 0.9703 - val_loss: 0.0806 - val_acc: 0.9750\n"
     ]
    },
    {
     "data": {
      "text/plain": [
       "<keras.callbacks.History at 0x7fe79dc9a3c8>"
      ]
     },
     "execution_count": 10,
     "metadata": {},
     "output_type": "execute_result"
    }
   ],
   "source": [
    "# 训练\n",
    "inceptionv3_obj.fit(x_train, y_train, batch_size=64, epochs=10, validation_data=(x_valid, y_valid))"
   ]
  },
  {
   "cell_type": "code",
   "execution_count": 11,
   "metadata": {},
   "outputs": [],
   "source": [
    "# 预测输出\n",
    "inceptionv3_predict = inceptionv3_obj.predict(test_data)\n",
    "inceptionv3_predict = inceptionv3_predict.clip(min=0.005, max=0.995)\n",
    "inceptionv3_predict = inceptionv3_predict.flatten(order = 'F')\n",
    "\n",
    "# 保存结果\n",
    "submission = pd.DataFrame(data = {'id':(np.arange(len(test_data))+1), 'label': inceptionv3_predict})\n",
    "submission.to_csv('inceptionv3_submission.csv',index=False)"
   ]
  },
  {
   "cell_type": "markdown",
   "metadata": {},
   "source": [
    "## 模型Xception\n",
    "预训练模型Xception"
   ]
  },
  {
   "cell_type": "code",
   "execution_count": 12,
   "metadata": {},
   "outputs": [
    {
     "name": "stdout",
     "output_type": "stream",
     "text": [
      "xception has 136 layers.\n"
     ]
    }
   ],
   "source": [
    "# 构建xception\n",
    "def buid_xception():\n",
    "\n",
    "    # 获取基础模型，不保留顶层的全连接网络\n",
    "    input_tensor = keras.Input(shape=(299, 299, 3)) \n",
    "    input_tensor = keras.layers.Lambda(keras.applications.xception.preprocess_input)(input_tensor)\n",
    "    base_model   = keras.applications.xception.Xception(input_tensor=input_tensor, include_top=False)\n",
    "\n",
    "    # 锁定模型，保护处理\n",
    "    for layer in base_model.layers:\n",
    "        layer.trainable = False\n",
    "\n",
    "    # 空域信号施加全局平均池化，dropout处理防止过拟合，重建全连接层\n",
    "    x = keras.layers.GlobalAveragePooling2D()(base_model.output)\n",
    "    x = keras.layers.Dropout(0.4)(x)\n",
    "    x = keras.layers.Dense(1, activation='sigmoid', kernel_initializer='he_normal')(x)\n",
    "\n",
    "    # 配置模型\n",
    "    result = keras.models.Model(inputs=base_model.input, outputs=x)\n",
    "    result.compile(optimizer='adadelta', loss='binary_crossentropy', metrics=['accuracy'])\n",
    "\n",
    "    # 返回\n",
    "    print('xception has %d layers.' % len(result.layers))\n",
    "    return result\n",
    "\n",
    "# 创建模型\n",
    "xception_obj = buid_xception()"
   ]
  },
  {
   "cell_type": "code",
   "execution_count": 13,
   "metadata": {},
   "outputs": [],
   "source": [
    "# 可视化模型\n",
    "#keras.utils.plot_model(xception_obj, to_file='model_xception.png')\n",
    "#SVG(model_to_dot(xception_obj).create(prog='dot', format='svg'))"
   ]
  },
  {
   "cell_type": "code",
   "execution_count": 14,
   "metadata": {},
   "outputs": [
    {
     "name": "stdout",
     "output_type": "stream",
     "text": [
      "Train on 19813 samples, validate on 4954 samples\n",
      "Epoch 1/10\n",
      "19813/19813 [==============================] - 498s 25ms/step - loss: 0.1458 - acc: 0.9641 - val_loss: 0.0931 - val_acc: 0.9782\n",
      "Epoch 2/10\n",
      "19813/19813 [==============================] - 493s 25ms/step - loss: 0.0571 - acc: 0.9841 - val_loss: 0.0632 - val_acc: 0.9826\n",
      "Epoch 3/10\n",
      "19813/19813 [==============================] - 493s 25ms/step - loss: 0.0491 - acc: 0.9843 - val_loss: 0.0631 - val_acc: 0.9822\n",
      "Epoch 4/10\n",
      "19813/19813 [==============================] - 493s 25ms/step - loss: 0.0440 - acc: 0.9858 - val_loss: 0.0569 - val_acc: 0.9832\n",
      "Epoch 5/10\n",
      "19813/19813 [==============================] - 492s 25ms/step - loss: 0.0417 - acc: 0.9853 - val_loss: 0.0664 - val_acc: 0.9792\n",
      "Epoch 6/10\n",
      "19813/19813 [==============================] - 492s 25ms/step - loss: 0.0405 - acc: 0.9856 - val_loss: 0.0786 - val_acc: 0.9754\n",
      "Epoch 7/10\n",
      "19813/19813 [==============================] - 492s 25ms/step - loss: 0.0394 - acc: 0.9858 - val_loss: 0.0767 - val_acc: 0.9758\n",
      "Epoch 8/10\n",
      "19813/19813 [==============================] - 493s 25ms/step - loss: 0.0384 - acc: 0.9875 - val_loss: 0.0765 - val_acc: 0.9756\n",
      "Epoch 9/10\n",
      "19813/19813 [==============================] - 492s 25ms/step - loss: 0.0382 - acc: 0.9866 - val_loss: 0.0737 - val_acc: 0.9762\n",
      "Epoch 10/10\n",
      "19813/19813 [==============================] - 493s 25ms/step - loss: 0.0357 - acc: 0.9880 - val_loss: 0.0643 - val_acc: 0.9792\n"
     ]
    },
    {
     "data": {
      "text/plain": [
       "<keras.callbacks.History at 0x7fe7a050b978>"
      ]
     },
     "execution_count": 14,
     "metadata": {},
     "output_type": "execute_result"
    }
   ],
   "source": [
    "# 训练\n",
    "xception_obj.fit(x_train, y_train, batch_size=64, epochs=10, validation_data=(x_valid, y_valid))"
   ]
  },
  {
   "cell_type": "code",
   "execution_count": 15,
   "metadata": {},
   "outputs": [],
   "source": [
    "# 预测输出\n",
    "xception_predict = xception_obj.predict(test_data)\n",
    "xception_predict = xception_predict.clip(min=0.005, max=0.995)\n",
    "xception_predict = xception_predict.flatten(order = 'F')\n",
    "\n",
    "# 保存结果\n",
    "submission = pd.DataFrame(data = {'id':(np.arange(len(test_data))+1), 'label': xception_predict})\n",
    "submission.to_csv('xception_submission.csv',index=False)"
   ]
  },
  {
   "cell_type": "markdown",
   "metadata": {},
   "source": [
    "## 模型Inception ResnetV2\n",
    "预训练模型Inception ResnetV2"
   ]
  },
  {
   "cell_type": "code",
   "execution_count": 16,
   "metadata": {},
   "outputs": [
    {
     "name": "stdout",
     "output_type": "stream",
     "text": [
      "Downloading data from https://github.com/fchollet/deep-learning-models/releases/download/v0.7/inception_resnet_v2_weights_tf_dim_ordering_tf_kernels_notop.h5\n",
      "219062272/219055592 [==============================] - 30s 0us/step\n",
      "Inception ResnetV2 has 784 layers.\n"
     ]
    }
   ],
   "source": [
    "# 构建Inception ResnetV2\n",
    "def buid_inception_resnet_v2():\n",
    "\n",
    "    # 获取基础模型，不保留顶层的全连接网络\n",
    "    input_tensor = keras.Input(shape=(299, 299, 3)) \n",
    "    input_tensor = keras.layers.Lambda(keras.applications.inception_resnet_v2.preprocess_input)(input_tensor)\n",
    "    base_model = keras.applications.inception_resnet_v2.InceptionResNetV2(input_tensor=input_tensor, include_top=False)\n",
    "\n",
    "    # 锁定模型，保护处理\n",
    "    for layer in base_model.layers:\n",
    "        layer.trainable = False\n",
    "\n",
    "    # 空域信号施加全局平均池化，dropout处理防止过拟合，重建全连接层\n",
    "    x = keras.layers.GlobalAveragePooling2D()(base_model.output)\n",
    "    x = keras.layers.Dropout(0.4)(x)\n",
    "    x = keras.layers.Dense(1, activation='sigmoid', kernel_initializer='he_normal')(x)\n",
    "\n",
    "    # 配置模型\n",
    "    result = keras.models.Model(inputs=base_model.input, outputs=x)\n",
    "    result.compile(optimizer='adadelta', loss='binary_crossentropy', metrics=['accuracy'])\n",
    "\n",
    "    # 返回\n",
    "    print('Inception ResnetV2 has %d layers.' % len(result.layers))\n",
    "    return result\n",
    "\n",
    "# 创建\n",
    "inception_resnet_v2_obj = buid_inception_resnet_v2()"
   ]
  },
  {
   "cell_type": "code",
   "execution_count": 17,
   "metadata": {},
   "outputs": [],
   "source": [
    "# 可视化模型\n",
    "#keras.utils.plot_model(inception_resnet_v2_obj, to_file='model_inception_resnet_v2.png')\n",
    "#SVG(model_to_dot(inception_resnet_v2_obj).create(prog='dot', format='svg'))"
   ]
  },
  {
   "cell_type": "code",
   "execution_count": null,
   "metadata": {},
   "outputs": [
    {
     "name": "stdout",
     "output_type": "stream",
     "text": [
      "Train on 19813 samples, validate on 4954 samples\n",
      "Epoch 1/10\n",
      "19813/19813 [==============================] - 649s 33ms/step - loss: 0.1722 - acc: 0.9485 - val_loss: 0.0560 - val_acc: 0.9867\n",
      "Epoch 2/10\n",
      "19813/19813 [==============================] - 635s 32ms/step - loss: 0.0864 - acc: 0.9708 - val_loss: 0.0687 - val_acc: 0.9796\n",
      "Epoch 3/10\n",
      "19813/19813 [==============================] - 636s 32ms/step - loss: 0.0725 - acc: 0.9754 - val_loss: 0.0446 - val_acc: 0.9869\n",
      "Epoch 4/10\n",
      "19813/19813 [==============================] - 636s 32ms/step - loss: 0.0683 - acc: 0.9746 - val_loss: 0.0588 - val_acc: 0.9806\n",
      "Epoch 5/10\n",
      "19813/19813 [==============================] - 636s 32ms/step - loss: 0.0645 - acc: 0.9764 - val_loss: 0.0568 - val_acc: 0.9810\n",
      "Epoch 6/10\n",
      "19776/19813 [============================>.] - ETA: 0s - loss: 0.0621 - acc: 0.9768"
     ]
    }
   ],
   "source": [
    "# 训练\n",
    "inception_resnet_v2_obj.fit(x_train, y_train, batch_size=64, epochs=10, validation_data=(x_valid, y_valid))"
   ]
  },
  {
   "cell_type": "code",
   "execution_count": null,
   "metadata": {},
   "outputs": [],
   "source": [
    "# 预测输出\n",
    "inception_resnet_v2_predict = inception_resnet_v2_obj.predict(test_data)\n",
    "inception_resnet_v2_predict = inception_resnet_v2_predict.clip(min=0.005, max=0.995)\n",
    "inception_resnet_v2_predict = inception_resnet_v2_predict.flatten(order = 'F')\n",
    "\n",
    "# 保存结果\n",
    "submission = pd.DataFrame(data = {'id':(np.arange(len(test_data))+1), 'label': inception_resnet_v2_predict})\n",
    "submission.to_csv('inception_resnet_v2_submission.csv',index=False)"
   ]
  },
  {
   "cell_type": "markdown",
   "metadata": {},
   "source": [
    "## 提取特征，融合模型\n",
    "将多个模型到特征向量融合训练"
   ]
  },
  {
   "cell_type": "code",
   "execution_count": null,
   "metadata": {},
   "outputs": [],
   "source": [
    "import h5py\n",
    "\n",
    "# 提取模型的特征数据\n",
    "def pick_features(raw_model, pre_input):\n",
    "\n",
    "    # 获取基础模型，不保留顶层的全连接网络\n",
    "    inputs       = keras.Input(shape=(299, 299, 3))\n",
    "    input_tensor = keras.layers.Lambda(pre_input)(inputs)\n",
    "    base_model   = raw_model(input_tensor=input_tensor, include_top=False)\n",
    "\n",
    "    # 提取特征数据\n",
    "    x     = keras.layers.GlobalAveragePooling2D()(base_model.output)\n",
    "    model = keras.models.Model(inputs=inputs, outputs=x)\n",
    "\n",
    "    train_feature = model.predict(x_train, batch_size=64)\n",
    "    test_feature  = model.predict(test_data, batch_size=64)\n",
    "\n",
    "    # 返回\n",
    "    with h5py.File(\"feature_%s.h5\" % raw_model.__name__, 'w') as f:\n",
    "        f.create_dataset('train', data=train_feature)\n",
    "        f.create_dataset('test',  data=test_feature)\n",
    "        f.create_dataset('label', data=y_train)\n",
    "    #return train_feature, test_feature"
   ]
  },
  {
   "cell_type": "code",
   "execution_count": null,
   "metadata": {},
   "outputs": [],
   "source": [
    "# 获取inceptionv3特征数据\n",
    "pick_features(keras.applications.inception_v3.InceptionV3, keras.applications.inception_v3.preprocess_input)"
   ]
  },
  {
   "cell_type": "code",
   "execution_count": null,
   "metadata": {},
   "outputs": [],
   "source": [
    "# 获取xception特征数据\n",
    "pick_features(keras.applications.xception.Xception, keras.applications.xception.preprocess_input)"
   ]
  },
  {
   "cell_type": "code",
   "execution_count": null,
   "metadata": {},
   "outputs": [],
   "source": [
    "# 获取inception_resnet_v2特征数据\n",
    "pick_features(keras.applications.inception_resnet_v2.InceptionResNetV2, keras.applications.inception_resnet_v2.preprocess_input)"
   ]
  },
  {
   "cell_type": "markdown",
   "metadata": {},
   "source": [
    "## 构建模型\n",
    "构建最终的模型，用特征数据进行训练"
   ]
  },
  {
   "cell_type": "code",
   "execution_count": null,
   "metadata": {},
   "outputs": [],
   "source": [
    "train, test= [], []\n",
    "for fetchfile in ['feature_Xception.h5', 'feature_InceptionV3.h5', 'feature_InceptionResNetV2.h5']:\n",
    "    with h5py.File(fetchfile, 'r') as h:\n",
    "        train.append(np.array(h['train']))\n",
    "        test.append(np.array(h['test']))\n",
    "        label = np.array(h['label'])\n",
    "        \n",
    "train_data_feature = np.concatenate(train, axis=1)\n",
    "test_data_feature  = np.concatenate(test, axis=1)"
   ]
  },
  {
   "cell_type": "code",
   "execution_count": null,
   "metadata": {},
   "outputs": [],
   "source": [
    "x_ft_train, x_ft_valid, y_ft_train, y_ft_valid = train_test_split(train_data_feature, y_train, test_size=0.2)"
   ]
  },
  {
   "cell_type": "code",
   "execution_count": null,
   "metadata": {},
   "outputs": [],
   "source": [
    "# 构建融合模型\n",
    "def buid_final_model():\n",
    "\n",
    "    inputs = keras.Input(shape=(x_ft_train.shape[1],))\n",
    "    x = keras.layers.Dropout(0.4)(inputs)\n",
    "    x = keras.layers.Dense(1, activation='sigmoid', kernel_initializer='he_normal')(x)\n",
    "\n",
    "    # 配置模型\n",
    "    final_model = keras.models.Model(inputs=inputs, outputs=x)\n",
    "    final_model.compile(optimizer='adadelta', loss='binary_crossentropy', metrics=['accuracy'])\n",
    "\n",
    "    # 返回\n",
    "    return final_model\n",
    "\n",
    "\n",
    "# 最终模型\n",
    "final_model_obj = buid_final_model()"
   ]
  },
  {
   "cell_type": "markdown",
   "metadata": {},
   "source": [
    "## 可视化展示\n",
    "展示构建的最终模型结构"
   ]
  },
  {
   "cell_type": "code",
   "execution_count": null,
   "metadata": {},
   "outputs": [],
   "source": [
    "# 可视化模型\n",
    "#keras.utils.plot_model(final_model_obj, to_file='model.png')\n",
    "\n",
    "from IPython.display import SVG\n",
    "from keras.utils.vis_utils import model_to_dot\n",
    "SVG(model_to_dot(final_model_obj).create(prog='dot', format='svg'))"
   ]
  },
  {
   "cell_type": "code",
   "execution_count": null,
   "metadata": {},
   "outputs": [],
   "source": [
    "# 训练最终模型\n",
    "def train_final_model(final_model):\n",
    "\n",
    "    # 模型保存位置\n",
    "    logs_file = 'ft_extract_features-{val_loss:.4f}.h5'\n",
    "    path = os.getcwd()\n",
    "    path_logs = os.path.join(path, logs_file)\n",
    "\n",
    "    early_stop = keras.callbacks.EarlyStopping(monitor='val_loss', patience=5)\n",
    "    model_check = keras.callbacks.ModelCheckpoint(path_logs, monitor='val_loss', save_best_only=True)\n",
    "\n",
    "    final_model.fit(x_ft_train, y_ft_train, batch_size=64, epochs=10, \n",
    "               validation_data=(x_ft_valid, y_ft_valid), callbacks=[early_stop, model_check])\n",
    "\n",
    "# 训练\n",
    "train_final_model(final_model_obj)"
   ]
  },
  {
   "cell_type": "code",
   "execution_count": null,
   "metadata": {},
   "outputs": [],
   "source": [
    "# 预测输出\n",
    "final_predict = final_model_obj.predict(test_data_feature)\n",
    "final_predict = final_predict.clip(min=0.005, max=0.995)\n",
    "final_predict = final_predict.flatten(order = 'F')\n",
    "\n",
    "# 保存结果\n",
    "submission = pd.DataFrame(data = {'id':(np.arange(len(test_data))+1), 'label': final_predict})\n",
    "submission.to_csv('final_submission.csv',index=False)"
   ]
  },
  {
   "cell_type": "markdown",
   "metadata": {},
   "source": [
    "## 对数损失曲线\n",
    "绘制模型的对数损失曲线，直观展示"
   ]
  },
  {
   "cell_type": "code",
   "execution_count": null,
   "metadata": {},
   "outputs": [],
   "source": [
    "import matplotlib.pyplot as plt\n",
    "\n",
    "# 对数损失更新曲线\n",
    "def show_loss(final_model):\n",
    "    fig, ax = plt.subplots(2,1)\n",
    "    his_model = final_model.history\n",
    "    history = his_model.history\n",
    "    ax[0].plot(history['loss'], color='b', label=\"loss\")\n",
    "    ax[0].plot(history['val_loss'], color='r', label=\"val_loss\",axes =ax[0])\n",
    "    legend = ax[0].legend(loc='best', shadow=True)\n",
    "\n",
    "    ax[1].plot(history['acc'], color='g', label=\"acc\")\n",
    "    ax[1].plot(history['val_acc'], color='c',label=\"val_acc\")\n",
    "    legend = ax[1].legend(loc='best', shadow=True)\n",
    "\n",
    "# 绘制\n",
    "show_loss(final_model_obj)"
   ]
  },
  {
   "cell_type": "code",
   "execution_count": null,
   "metadata": {},
   "outputs": [],
   "source": []
  }
 ],
 "metadata": {
  "kernelspec": {
   "display_name": "Python [default]",
   "language": "python",
   "name": "python3"
  },
  "language_info": {
   "codemirror_mode": {
    "name": "ipython",
    "version": 3
   },
   "file_extension": ".py",
   "mimetype": "text/x-python",
   "name": "python",
   "nbconvert_exporter": "python",
   "pygments_lexer": "ipython3",
   "version": "3.6.4"
  }
 },
 "nbformat": 4,
 "nbformat_minor": 2
}
