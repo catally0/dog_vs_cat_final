{
 "cells": [
  {
   "cell_type": "markdown",
   "metadata": {},
   "source": [
    "## 检测python版本\n",
    "- 这里我们使用的python的版本为3.6.5\n",
    "- 我们对于将要使用到到库，在这里统一导入，以避免覆盖和名次空间污染"
   ]
  },
  {
   "cell_type": "code",
   "execution_count": 1,
   "metadata": {},
   "outputs": [
    {
     "data": {
      "text/plain": [
       "'3.6.5 |Anaconda, Inc.| (default, Apr 26 2018, 08:42:37) \\n[GCC 4.2.1 Compatible Clang 4.0.1 (tags/RELEASE_401/final)]'"
      ]
     },
     "execution_count": 1,
     "metadata": {},
     "output_type": "execute_result"
    }
   ],
   "source": [
    "import sys\n",
    "import keras\n",
    "import pandas as pd\n",
    "\n",
    "sys.version"
   ]
  },
  {
   "cell_type": "markdown",
   "metadata": {},
   "source": [
    "## 数据预处理\n",
    "- 下载好的数据集位于data目录下\n",
    "- 筛选出训练集中不合格到图片，在pick_bad_pics.ipynb中说明并实现\n",
    "- 将数据集解压后，归类图片到指定到目录（目录结构readme.md中有描述）\n",
    "- 本note不对数据到预处理做重复描述"
   ]
  },
  {
   "cell_type": "code",
   "execution_count": 3,
   "metadata": {},
   "outputs": [],
   "source": [
    "# 数据预处理，见其它notebook和附件"
   ]
  },
  {
   "cell_type": "markdown",
   "metadata": {},
   "source": [
    "## 模型对比、筛选和验证\n",
    "- 我们将编写函数，将需要采用到到预先训练模型，分部进行训练和预测。根据其中到表现，筛选出我们最终会使用到预训练模型\n",
    "- 我们将对比和验证到模型有：InceptionV3、Xception和Inception ResnetV2"
   ]
  },
  {
   "cell_type": "code",
   "execution_count": null,
   "metadata": {},
   "outputs": [],
   "source": [
    "# 预训练模型筛选\n",
    "\n",
    "# 构建模型\n",
    "def buid_model(pre_model, image_size, pre_input):\n",
    "\n",
    "    # 获取基础模型，不保留顶层的全连接网络\n",
    "    input_tensor = keras.Input(shape=(image_size[0], image_size[1], 3))\n",
    "    if pre_input:\n",
    "        input_tensor = keras.layers.Lambda(pre_input)(input_tensor)\n",
    "    base_model = pre_model(input_tensor=input_tensor, include_top=False)\n",
    "\n",
    "    # 锁定模型，保护处理\n",
    "    for layer in base_model.layers:\n",
    "        layer.trainable = False\n",
    "\n",
    "    # 空域信号施加全局平均池化，dropout处理防止过拟合，重建全连接层\n",
    "    tmp = keras.layers.GlobalAveragePooling2D()(base_model.output)\n",
    "    tmp = keras.layers.Dropout(0.25)(tmp)\n",
    "    tmp = keras.layers.Dense(1, activation='sigmoid', kernel_initializer='he_normal')(tmp)\n",
    "\n",
    "    # 配置模型\n",
    "    model_obj = keras.models.Model(inputs=base_model.input, outputs=x)\n",
    "    model_obj.compile(optimizer='adadelta', loss='binary_crossentropy', metrics=['accuracy'])\n",
    "\n",
    "    # 返回\n",
    "    print('%s has %d layers.' % (model_obj.__name__, len(model_obj.layers)))\n",
    "    return model_obj\n",
    "\n",
    "\n",
    "# 预测输出，并保存结果\n",
    "def do_predict(model_obj, image_size):\n",
    "\n",
    "    # 定义图片生成器\n",
    "    gen = keras.preprocessing.image.ImageDataGenerator()\n",
    "    train_generator = gen.flow_from_directory(\"data/train_gen\", image_size, shuffle=False)\n",
    "    test_generator  = gen.flow_from_directory(\"data/test\", image_size, shuffle=False, class_mode=None)\n",
    "\n",
    "    # 训练\n",
    "    model_obj.fit_generator(train_generator, len(train_generator), epochs=8, verbose=2)\n",
    " \n",
    "    \n",
    "    # 预测输出\n",
    "    pred = model_obj.predict_generator(test_gen, verbose=1)\n",
    "    pred = pred.clip(min=0.005, max=0.995)\n",
    "\n",
    "    df = pd.read_csv(\"sample_submission.csv\")\n",
    "    for i, fname in enumerate(test_gen.filenames):\n",
    "        index = int(fname[fname.rfind('/')+1:fname.rfind('.')])\n",
    "        df.set_value(index-1, 'label', y_pred[i])\n",
    "\n",
    "    # 保存结果\n",
    "    df.to_csv('submission_%s.csv' % model_obj.__name__, index=None)\n",
    "    df.head(20)\n",
    "    \n",
    "# 筛选测试\n",
    "def select_best_model(pre_model, image_size, pre_input):\n",
    "    \n",
    "    # 构建模型\n",
    "    model_obj = buid_model(pre_model, image_size, pre_input)\n",
    "    \n",
    "    # 预测输出\n",
    "    do_predict(model_obj, image_size)"
   ]
  },
  {
   "cell_type": "markdown",
   "metadata": {},
   "source": [
    "## 模型InceptionV3\n",
    "预训练模型InceptionV3"
   ]
  },
  {
   "cell_type": "code",
   "execution_count": null,
   "metadata": {},
   "outputs": [],
   "source": [
    "select_best_model(keras.applications.inception_v3.InceptionV3, (299, 299)\n",
    "                  , keras.applications.inception_v3.preprocess_input)"
   ]
  },
  {
   "cell_type": "markdown",
   "metadata": {},
   "source": [
    "## 模型Xception\n",
    "预训练模型Xception"
   ]
  },
  {
   "cell_type": "code",
   "execution_count": null,
   "metadata": {},
   "outputs": [],
   "source": [
    "select_best_model(keras.applications.xception.Xception, (299, 299)\n",
    "                  , keras.applications.xception.preprocess_input)"
   ]
  },
  {
   "cell_type": "markdown",
   "metadata": {},
   "source": [
    "## 模型Inception ResnetV2\n",
    "预训练模型Inception ResnetV2"
   ]
  },
  {
   "cell_type": "code",
   "execution_count": null,
   "metadata": {},
   "outputs": [],
   "source": [
    "select_best_model(keras.applications.inception_resnet_v2.InceptionResNetV2, (299, 299)\n",
    "                  , keras.applications.inception_resnet_v2.preprocess_input)"
   ]
  }
 ],
 "metadata": {
  "kernelspec": {
   "display_name": "Python 3",
   "language": "python",
   "name": "python3"
  },
  "language_info": {
   "codemirror_mode": {
    "name": "ipython",
    "version": 3
   },
   "file_extension": ".py",
   "mimetype": "text/x-python",
   "name": "python",
   "nbconvert_exporter": "python",
   "pygments_lexer": "ipython3",
   "version": "3.6.5"
  }
 },
 "nbformat": 4,
 "nbformat_minor": 2
}
