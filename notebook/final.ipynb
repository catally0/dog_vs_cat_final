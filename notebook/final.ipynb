{
 "cells": [
  {
   "cell_type": "markdown",
   "metadata": {},
   "source": [
    "## 检测python版本\n",
    "- 这里我们使用的python的版本为3.6.5\n",
    "- 我们对于将要使用到到库，在这里统一导入，以避免覆盖和名次空间污染"
   ]
  },
  {
   "cell_type": "code",
   "execution_count": 1,
   "metadata": {},
   "outputs": [
    {
     "name": "stderr",
     "output_type": "stream",
     "text": [
      "/home/ubuntu/anaconda3/envs/tensorflow_p36/lib/python3.6/site-packages/h5py/__init__.py:36: FutureWarning: Conversion of the second argument of issubdtype from `float` to `np.floating` is deprecated. In future, it will be treated as `np.float64 == np.dtype(float).type`.\n",
      "  from ._conv import register_converters as _register_converters\n",
      "Using TensorFlow backend.\n",
      "/home/ubuntu/anaconda3/envs/tensorflow_p36/lib/python3.6/site-packages/matplotlib/__init__.py:1067: UserWarning: Duplicate key in file \"/home/ubuntu/.config/matplotlib/matplotlibrc\", line #2\n",
      "  (fname, cnt))\n",
      "/home/ubuntu/anaconda3/envs/tensorflow_p36/lib/python3.6/site-packages/matplotlib/__init__.py:1067: UserWarning: Duplicate key in file \"/home/ubuntu/.config/matplotlib/matplotlibrc\", line #3\n",
      "  (fname, cnt))\n"
     ]
    },
    {
     "data": {
      "text/plain": [
       "'3.6.4 |Anaconda, Inc.| (default, Jan 16 2018, 18:10:19) \\n[GCC 7.2.0]'"
      ]
     },
     "execution_count": 1,
     "metadata": {},
     "output_type": "execute_result"
    }
   ],
   "source": [
    "import sys\n",
    "import os\n",
    "import shutil\n",
    "import keras\n",
    "import pandas as pd\n",
    "\n",
    "sys.version"
   ]
  },
  {
   "cell_type": "markdown",
   "metadata": {},
   "source": [
    "## 数据预处理\n",
    "- 下载好的数据集位于data目录下\n",
    "- 筛选出训练集中不合格到图片，在pick_bad_pics.ipynb中说明并实现\n",
    "- 将数据集解压后，归类图片到指定到目录（目录结构readme.md中有描述）\n",
    "- 本note不对数据到预处理做重复描述"
   ]
  },
  {
   "cell_type": "code",
   "execution_count": 2,
   "metadata": {},
   "outputs": [
    {
     "name": "stdout",
     "output_type": "stream",
     "text": [
      "12500 12500\n",
      "2500 2500 10000 10000\n"
     ]
    }
   ],
   "source": [
    "# 数据预处理\n",
    "def pretreat_data():\n",
    "\n",
    "    # 提取\n",
    "    all_cats = [file for file in os.listdir(\"data/train\") if 'cat' in file]\n",
    "    all_dogs = [file for file in os.listdir(\"data/train\") if 'dog' in file]\n",
    "    print(len(all_cats), len(all_dogs))\n",
    "\n",
    "    # 分割验证集20%\n",
    "    val_num = int(len(all_dogs) * 0.2)\n",
    "    val_cat = all_cats[-val_num:]\n",
    "    val_dog = all_dogs[-val_num:]\n",
    "    train_cat = all_cats[:-val_num]\n",
    "    train_dog = all_dogs[:-val_num]\n",
    "    print(len(val_cat), len(val_dog), len(train_cat), len(train_dog))\n",
    "\n",
    "    # 建立必要目录，并填充\n",
    "    if not os.path.isdir(\"data/gen_train\"):\n",
    "        os.mkdir(\"data/gen_train\")\n",
    "        os.mkdir(\"data/gen_train/dog\")\n",
    "        os.mkdir(\"data/gen_train/cat\")\n",
    "        for file in train_dog:\n",
    "            shutil.copyfile('data/train/%s'%file, \"data/gen_train/dog/%s\"%file)\n",
    "        for file in train_cat:\n",
    "            shutil.copyfile('data/train/%s'%file, \"data/gen_train/cat/%s\"%file)\n",
    "        print(\"done gen_train\")\n",
    "\n",
    "    if not os.path.isdir(\"data/gen_val\"):\n",
    "        os.mkdir(\"data/gen_val\")\n",
    "        os.mkdir(\"data/gen_val/dog\")\n",
    "        os.mkdir(\"data/gen_val/cat\")\n",
    "        for file in val_dog:\n",
    "            shutil.copyfile('data/train/%s'%file, \"data/gen_val/dog/%s\"%file)\n",
    "        for file in val_cat:\n",
    "            shutil.copyfile('data/train/%s'%file, \"data/gen_val/cat/%s\"%file)\n",
    "        print(\"done gen_val\")\n",
    "        \n",
    "    if not os.path.isdir(\"data/gen_test\"):\n",
    "        os.mkdir(\"data/gen_test\")\n",
    "        os.mkdir(\"data/gen_test/mixed\")\n",
    "        for file in os.listdir(\"data/test\")[:]:\n",
    "            shutil.copyfile('data/test/%s'%file, \"data/gen_test/mixed/%s\"%file)\n",
    "        print(\"done gen_test\")\n",
    "\n",
    "\n",
    "# 预处理\n",
    "pretreat_data()"
   ]
  },
  {
   "cell_type": "markdown",
   "metadata": {},
   "source": [
    "## 模型对比、筛选和验证\n",
    "- 我们将编写函数，将需要采用到到预先训练模型，分部进行训练和预测。根据其中到表现，筛选出我们最终会使用到预训练模型\n",
    "- 我们将对比和验证到模型有：InceptionV3、Xception和Inception ResnetV2"
   ]
  },
  {
   "cell_type": "code",
   "execution_count": 3,
   "metadata": {},
   "outputs": [],
   "source": [
    "# 预训练模型筛选\n",
    "\n",
    "# 构建模型\n",
    "def buid_model(pre_model, image_size, pre_input, name):\n",
    "\n",
    "    # 获取基础模型，不保留顶层的全连接网络\n",
    "    input_tensor = keras.Input(shape=(image_size[0], image_size[1], 3))\n",
    "    if pre_input:\n",
    "        input_tensor = keras.layers.Lambda(pre_input)(input_tensor)\n",
    "    base_model = pre_model(input_tensor=input_tensor, include_top=False)\n",
    "\n",
    "    # 锁定模型，保护处理\n",
    "    for layer in base_model.layers:\n",
    "        layer.trainable = False\n",
    "\n",
    "    # 空域信号施加全局平均池化，dropout处理防止过拟合，重建全连接层\n",
    "    tmp = keras.layers.GlobalAveragePooling2D()(base_model.output)\n",
    "    tmp = keras.layers.Dropout(0.5)(tmp)\n",
    "    tmp = keras.layers.Dense(1, activation='sigmoid', kernel_initializer='he_normal')(tmp)\n",
    "\n",
    "    # 配置模型\n",
    "    model_obj = keras.models.Model(inputs=base_model.input, outputs=tmp)\n",
    "    #model_obj.compile(optimizer='adadelta', loss='binary_crossentropy', metrics=['accuracy'])\n",
    "    model_obj.compile(optimizer='adam', loss='binary_crossentropy', metrics=['accuracy'])\n",
    "\n",
    "    # 返回\n",
    "    print('%s has %d layers.' % (name, len(model_obj.layers)))\n",
    "\n",
    "    # Fine Tune处理\n",
    "    for layer in model_obj.layers[-5:]:\n",
    "        print(\"layer name = %s\" % layer.name)\n",
    "        layer.trainable = True\n",
    "    model_obj.compile(optimizer='adam', loss='binary_crossentropy', metrics=['accuracy'])\n",
    "    return model_obj\n",
    "\n",
    "\n",
    "# 预测输出，并保存结果\n",
    "def do_predict(model_obj, image_size, name):\n",
    "\n",
    "    # 定义图片生成器\n",
    "    gen = keras.preprocessing.image.ImageDataGenerator()\n",
    "    train_generator = gen.flow_from_directory(\"./data/gen_train\", image_size, shuffle=False, class_mode=\"binary\")\n",
    "    val_generator = gen.flow_from_directory(\"./data/gen_val\", image_size, shuffle=False, class_mode=\"binary\")\n",
    "    test_generator = gen.flow_from_directory(\"./data/gen_test\", image_size, shuffle=False, class_mode=None)\n",
    "    print(len(train_generator), len(val_generator), len(test_generator))\n",
    "\n",
    "    # 训练\n",
    "    check_pt = keras.callbacks.ModelCheckpoint('%s_{epoch:02d}_{val_loss:.4f}.hdf5' % name\n",
    "        , monitor='val_loss', verbose=1, save_best_only=False, save_weights_only=False, period=1)\n",
    "    early_stop = keras.callbacks.EarlyStopping(monitor='val_loss', min_delta=0.002\n",
    "        , patience=5, verbose=1,mode='auto')  \n",
    "    model_obj.fit_generator(train_generator, len(train_generator), epochs=10, verbose=1\n",
    "        , validation_data=val_generator, validation_steps=len(val_generator), callbacks=[check_pt, early_stop])\n",
    " \n",
    "    # 预测输出\n",
    "    pred = model_obj.predict_generator(test_generator, verbose=1)\n",
    "    pred = pred.clip(min=0.005, max=0.995)\n",
    "\n",
    "    df = pd.read_csv(\"sample_submission.csv\")\n",
    "    for i, fname in enumerate(test_generator.filenames):\n",
    "        index = int(fname[fname.rfind('/')+1:fname.rfind('.')])\n",
    "        df.set_value(index-1, 'label', pred[i])\n",
    "\n",
    "    # 保存结果\n",
    "    df.to_csv('submission_%s.csv' % name, index=None)\n",
    "    df.head(20)\n",
    "    \n",
    "# 筛选测试\n",
    "def select_best_model(pre_model, image_size, pre_input, name):\n",
    "    \n",
    "    # 构建模型\n",
    "    model_obj = buid_model(pre_model, image_size, pre_input, name)\n",
    "    \n",
    "    # 预测输出\n",
    "    do_predict(model_obj, image_size, name)"
   ]
  },
  {
   "cell_type": "markdown",
   "metadata": {},
   "source": [
    "## 模型InceptionV3\n",
    "预训练模型InceptionV3"
   ]
  },
  {
   "cell_type": "code",
   "execution_count": 4,
   "metadata": {},
   "outputs": [
    {
     "name": "stdout",
     "output_type": "stream",
     "text": [
      "InceptionV3 has 315 layers.\n",
      "Found 20000 images belonging to 2 classes.\n",
      "Found 5000 images belonging to 2 classes.\n",
      "Found 12500 images belonging to 1 classes.\n",
      "625 157 391\n",
      "Epoch 1/10\n",
      "625/625 [==============================] - 292s 468ms/step - loss: 0.4012 - acc: 0.8418 - val_loss: 0.6262 - val_acc: 0.6520\n",
      "\n",
      "Epoch 00001: saving model to InceptionV3_01_0.6262.hdf5\n",
      "Epoch 2/10\n",
      "625/625 [==============================] - 285s 456ms/step - loss: 0.0698 - acc: 0.9979 - val_loss: 0.6687 - val_acc: 0.5990\n",
      "\n",
      "Epoch 00002: saving model to InceptionV3_02_0.6687.hdf5\n",
      "Epoch 3/10\n",
      "625/625 [==============================] - 284s 454ms/step - loss: 0.0267 - acc: 0.9994 - val_loss: 0.6350 - val_acc: 0.6456\n",
      "\n",
      "Epoch 00003: saving model to InceptionV3_03_0.6350.hdf5\n",
      "Epoch 4/10\n",
      "625/625 [==============================] - 283s 452ms/step - loss: 0.0153 - acc: 0.9996 - val_loss: 0.6929 - val_acc: 0.5924\n",
      "\n",
      "Epoch 00004: saving model to InceptionV3_04_0.6929.hdf5\n",
      "Epoch 5/10\n",
      "625/625 [==============================] - 283s 453ms/step - loss: 0.0089 - acc: 0.9999 - val_loss: 0.7025 - val_acc: 0.5880\n",
      "\n",
      "Epoch 00005: saving model to InceptionV3_05_0.7025.hdf5\n",
      "Epoch 6/10\n",
      "625/625 [==============================] - 283s 452ms/step - loss: 0.0060 - acc: 0.9997 - val_loss: 0.5832 - val_acc: 0.7118\n",
      "\n",
      "Epoch 00006: saving model to InceptionV3_06_0.5832.hdf5\n",
      "Epoch 7/10\n",
      "625/625 [==============================] - 282s 452ms/step - loss: 0.0058 - acc: 0.9998 - val_loss: 0.9229 - val_acc: 0.5304\n",
      "\n",
      "Epoch 00007: saving model to InceptionV3_07_0.9229.hdf5\n",
      "Epoch 8/10\n",
      "625/625 [==============================] - 282s 452ms/step - loss: 0.0044 - acc: 0.9997 - val_loss: 1.0480 - val_acc: 0.3814\n",
      "\n",
      "Epoch 00008: saving model to InceptionV3_08_1.0480.hdf5\n",
      "Epoch 9/10\n",
      "625/625 [==============================] - 283s 452ms/step - loss: 0.0031 - acc: 0.9998 - val_loss: 0.8218 - val_acc: 0.5664\n",
      "\n",
      "Epoch 00009: saving model to InceptionV3_09_0.8218.hdf5\n",
      "Epoch 10/10\n",
      "625/625 [==============================] - 282s 452ms/step - loss: 0.0022 - acc: 1.0000 - val_loss: 0.6537 - val_acc: 0.6610\n",
      "\n",
      "Epoch 00010: saving model to InceptionV3_10_0.6537.hdf5\n",
      "391/391 [==============================] - 160s 409ms/step\n"
     ]
    },
    {
     "name": "stderr",
     "output_type": "stream",
     "text": [
      "/home/ubuntu/anaconda3/envs/tensorflow_p36/lib/python3.6/site-packages/ipykernel/__main__.py:61: FutureWarning: set_value is deprecated and will be removed in a future release. Please use .at[] or .iat[] accessors instead\n"
     ]
    }
   ],
   "source": [
    "select_best_model(keras.applications.inception_v3.InceptionV3, (299, 299)\n",
    "                  , keras.applications.inception_v3.preprocess_input, \"InceptionV3\")"
   ]
  },
  {
   "cell_type": "markdown",
   "metadata": {},
   "source": [
    "## 模型Xception\n",
    "预训练模型Xception"
   ]
  },
  {
   "cell_type": "code",
   "execution_count": 5,
   "metadata": {},
   "outputs": [
    {
     "name": "stdout",
     "output_type": "stream",
     "text": [
      "Xception has 136 layers.\n",
      "Found 20000 images belonging to 2 classes.\n",
      "Found 5000 images belonging to 2 classes.\n",
      "Found 12500 images belonging to 1 classes.\n",
      "625 157 391\n",
      "Epoch 1/10\n",
      "297/625 [=============>................] - ETA: 4:01 - loss: 0.4385 - acc: 0.7955"
     ]
    },
    {
     "ename": "KeyboardInterrupt",
     "evalue": "",
     "output_type": "error",
     "traceback": [
      "\u001b[0;31m---------------------------------------------------------------------------\u001b[0m",
      "\u001b[0;31mKeyboardInterrupt\u001b[0m                         Traceback (most recent call last)",
      "\u001b[0;32m<ipython-input-5-2d600bdb195a>\u001b[0m in \u001b[0;36m<module>\u001b[0;34m()\u001b[0m\n\u001b[1;32m      1\u001b[0m select_best_model(keras.applications.xception.Xception, (299, 299)\n\u001b[0;32m----> 2\u001b[0;31m                   , keras.applications.xception.preprocess_input, \"Xception\")\n\u001b[0m",
      "\u001b[0;32m<ipython-input-3-cf791548e242>\u001b[0m in \u001b[0;36mselect_best_model\u001b[0;34m(pre_model, image_size, pre_input, name)\u001b[0m\n\u001b[1;32m     72\u001b[0m \u001b[0;34m\u001b[0m\u001b[0m\n\u001b[1;32m     73\u001b[0m     \u001b[0;31m# 预测输出\u001b[0m\u001b[0;34m\u001b[0m\u001b[0;34m\u001b[0m\u001b[0m\n\u001b[0;32m---> 74\u001b[0;31m     \u001b[0mdo_predict\u001b[0m\u001b[0;34m(\u001b[0m\u001b[0mmodel_obj\u001b[0m\u001b[0;34m,\u001b[0m \u001b[0mimage_size\u001b[0m\u001b[0;34m,\u001b[0m \u001b[0mname\u001b[0m\u001b[0;34m)\u001b[0m\u001b[0;34m\u001b[0m\u001b[0m\n\u001b[0m",
      "\u001b[0;32m<ipython-input-3-cf791548e242>\u001b[0m in \u001b[0;36mdo_predict\u001b[0;34m(model_obj, image_size, name)\u001b[0m\n\u001b[1;32m     50\u001b[0m         , patience=5, verbose=1,mode='auto')  \n\u001b[1;32m     51\u001b[0m     model_obj.fit_generator(train_generator, len(train_generator), epochs=10, verbose=1\n\u001b[0;32m---> 52\u001b[0;31m         , validation_data=val_generator, validation_steps=len(val_generator), callbacks=[check_pt, early_stop])\n\u001b[0m\u001b[1;32m     53\u001b[0m \u001b[0;34m\u001b[0m\u001b[0m\n\u001b[1;32m     54\u001b[0m     \u001b[0;31m# 预测输出\u001b[0m\u001b[0;34m\u001b[0m\u001b[0;34m\u001b[0m\u001b[0m\n",
      "\u001b[0;32m~/anaconda3/envs/tensorflow_p36/lib/python3.6/site-packages/keras/legacy/interfaces.py\u001b[0m in \u001b[0;36mwrapper\u001b[0;34m(*args, **kwargs)\u001b[0m\n\u001b[1;32m     89\u001b[0m                 warnings.warn('Update your `' + object_name +\n\u001b[1;32m     90\u001b[0m                               '` call to the Keras 2 API: ' + signature, stacklevel=2)\n\u001b[0;32m---> 91\u001b[0;31m             \u001b[0;32mreturn\u001b[0m \u001b[0mfunc\u001b[0m\u001b[0;34m(\u001b[0m\u001b[0;34m*\u001b[0m\u001b[0margs\u001b[0m\u001b[0;34m,\u001b[0m \u001b[0;34m**\u001b[0m\u001b[0mkwargs\u001b[0m\u001b[0;34m)\u001b[0m\u001b[0;34m\u001b[0m\u001b[0m\n\u001b[0m\u001b[1;32m     92\u001b[0m         \u001b[0mwrapper\u001b[0m\u001b[0;34m.\u001b[0m\u001b[0m_original_function\u001b[0m \u001b[0;34m=\u001b[0m \u001b[0mfunc\u001b[0m\u001b[0;34m\u001b[0m\u001b[0m\n\u001b[1;32m     93\u001b[0m         \u001b[0;32mreturn\u001b[0m \u001b[0mwrapper\u001b[0m\u001b[0;34m\u001b[0m\u001b[0m\n",
      "\u001b[0;32m~/anaconda3/envs/tensorflow_p36/lib/python3.6/site-packages/keras/engine/training.py\u001b[0m in \u001b[0;36mfit_generator\u001b[0;34m(self, generator, steps_per_epoch, epochs, verbose, callbacks, validation_data, validation_steps, class_weight, max_queue_size, workers, use_multiprocessing, shuffle, initial_epoch)\u001b[0m\n\u001b[1;32m   2228\u001b[0m                     outs = self.train_on_batch(x, y,\n\u001b[1;32m   2229\u001b[0m                                                \u001b[0msample_weight\u001b[0m\u001b[0;34m=\u001b[0m\u001b[0msample_weight\u001b[0m\u001b[0;34m,\u001b[0m\u001b[0;34m\u001b[0m\u001b[0m\n\u001b[0;32m-> 2230\u001b[0;31m                                                class_weight=class_weight)\n\u001b[0m\u001b[1;32m   2231\u001b[0m \u001b[0;34m\u001b[0m\u001b[0m\n\u001b[1;32m   2232\u001b[0m                     \u001b[0;32mif\u001b[0m \u001b[0;32mnot\u001b[0m \u001b[0misinstance\u001b[0m\u001b[0;34m(\u001b[0m\u001b[0mouts\u001b[0m\u001b[0;34m,\u001b[0m \u001b[0mlist\u001b[0m\u001b[0;34m)\u001b[0m\u001b[0;34m:\u001b[0m\u001b[0;34m\u001b[0m\u001b[0m\n",
      "\u001b[0;32m~/anaconda3/envs/tensorflow_p36/lib/python3.6/site-packages/keras/engine/training.py\u001b[0m in \u001b[0;36mtrain_on_batch\u001b[0;34m(self, x, y, sample_weight, class_weight)\u001b[0m\n\u001b[1;32m   1881\u001b[0m             \u001b[0mins\u001b[0m \u001b[0;34m=\u001b[0m \u001b[0mx\u001b[0m \u001b[0;34m+\u001b[0m \u001b[0my\u001b[0m \u001b[0;34m+\u001b[0m \u001b[0msample_weights\u001b[0m\u001b[0;34m\u001b[0m\u001b[0m\n\u001b[1;32m   1882\u001b[0m         \u001b[0mself\u001b[0m\u001b[0;34m.\u001b[0m\u001b[0m_make_train_function\u001b[0m\u001b[0;34m(\u001b[0m\u001b[0;34m)\u001b[0m\u001b[0;34m\u001b[0m\u001b[0m\n\u001b[0;32m-> 1883\u001b[0;31m         \u001b[0moutputs\u001b[0m \u001b[0;34m=\u001b[0m \u001b[0mself\u001b[0m\u001b[0;34m.\u001b[0m\u001b[0mtrain_function\u001b[0m\u001b[0;34m(\u001b[0m\u001b[0mins\u001b[0m\u001b[0;34m)\u001b[0m\u001b[0;34m\u001b[0m\u001b[0m\n\u001b[0m\u001b[1;32m   1884\u001b[0m         \u001b[0;32mif\u001b[0m \u001b[0mlen\u001b[0m\u001b[0;34m(\u001b[0m\u001b[0moutputs\u001b[0m\u001b[0;34m)\u001b[0m \u001b[0;34m==\u001b[0m \u001b[0;36m1\u001b[0m\u001b[0;34m:\u001b[0m\u001b[0;34m\u001b[0m\u001b[0m\n\u001b[1;32m   1885\u001b[0m             \u001b[0;32mreturn\u001b[0m \u001b[0moutputs\u001b[0m\u001b[0;34m[\u001b[0m\u001b[0;36m0\u001b[0m\u001b[0;34m]\u001b[0m\u001b[0;34m\u001b[0m\u001b[0m\n",
      "\u001b[0;32m~/anaconda3/envs/tensorflow_p36/lib/python3.6/site-packages/keras/backend/tensorflow_backend.py\u001b[0m in \u001b[0;36m__call__\u001b[0;34m(self, inputs)\u001b[0m\n\u001b[1;32m   2480\u001b[0m         \u001b[0msession\u001b[0m \u001b[0;34m=\u001b[0m \u001b[0mget_session\u001b[0m\u001b[0;34m(\u001b[0m\u001b[0;34m)\u001b[0m\u001b[0;34m\u001b[0m\u001b[0m\n\u001b[1;32m   2481\u001b[0m         updated = session.run(fetches=fetches, feed_dict=feed_dict,\n\u001b[0;32m-> 2482\u001b[0;31m                               **self.session_kwargs)\n\u001b[0m\u001b[1;32m   2483\u001b[0m         \u001b[0;32mreturn\u001b[0m \u001b[0mupdated\u001b[0m\u001b[0;34m[\u001b[0m\u001b[0;34m:\u001b[0m\u001b[0mlen\u001b[0m\u001b[0;34m(\u001b[0m\u001b[0mself\u001b[0m\u001b[0;34m.\u001b[0m\u001b[0moutputs\u001b[0m\u001b[0;34m)\u001b[0m\u001b[0;34m]\u001b[0m\u001b[0;34m\u001b[0m\u001b[0m\n\u001b[1;32m   2484\u001b[0m \u001b[0;34m\u001b[0m\u001b[0m\n",
      "\u001b[0;32m~/anaconda3/envs/tensorflow_p36/lib/python3.6/site-packages/tensorflow/python/client/session.py\u001b[0m in \u001b[0;36mrun\u001b[0;34m(self, fetches, feed_dict, options, run_metadata)\u001b[0m\n\u001b[1;32m    903\u001b[0m     \u001b[0;32mtry\u001b[0m\u001b[0;34m:\u001b[0m\u001b[0;34m\u001b[0m\u001b[0m\n\u001b[1;32m    904\u001b[0m       result = self._run(None, fetches, feed_dict, options_ptr,\n\u001b[0;32m--> 905\u001b[0;31m                          run_metadata_ptr)\n\u001b[0m\u001b[1;32m    906\u001b[0m       \u001b[0;32mif\u001b[0m \u001b[0mrun_metadata\u001b[0m\u001b[0;34m:\u001b[0m\u001b[0;34m\u001b[0m\u001b[0m\n\u001b[1;32m    907\u001b[0m         \u001b[0mproto_data\u001b[0m \u001b[0;34m=\u001b[0m \u001b[0mtf_session\u001b[0m\u001b[0;34m.\u001b[0m\u001b[0mTF_GetBuffer\u001b[0m\u001b[0;34m(\u001b[0m\u001b[0mrun_metadata_ptr\u001b[0m\u001b[0;34m)\u001b[0m\u001b[0;34m\u001b[0m\u001b[0m\n",
      "\u001b[0;32m~/anaconda3/envs/tensorflow_p36/lib/python3.6/site-packages/tensorflow/python/client/session.py\u001b[0m in \u001b[0;36m_run\u001b[0;34m(self, handle, fetches, feed_dict, options, run_metadata)\u001b[0m\n\u001b[1;32m   1138\u001b[0m     \u001b[0;32mif\u001b[0m \u001b[0mfinal_fetches\u001b[0m \u001b[0;32mor\u001b[0m \u001b[0mfinal_targets\u001b[0m \u001b[0;32mor\u001b[0m \u001b[0;34m(\u001b[0m\u001b[0mhandle\u001b[0m \u001b[0;32mand\u001b[0m \u001b[0mfeed_dict_tensor\u001b[0m\u001b[0;34m)\u001b[0m\u001b[0;34m:\u001b[0m\u001b[0;34m\u001b[0m\u001b[0m\n\u001b[1;32m   1139\u001b[0m       results = self._do_run(handle, final_targets, final_fetches,\n\u001b[0;32m-> 1140\u001b[0;31m                              feed_dict_tensor, options, run_metadata)\n\u001b[0m\u001b[1;32m   1141\u001b[0m     \u001b[0;32melse\u001b[0m\u001b[0;34m:\u001b[0m\u001b[0;34m\u001b[0m\u001b[0m\n\u001b[1;32m   1142\u001b[0m       \u001b[0mresults\u001b[0m \u001b[0;34m=\u001b[0m \u001b[0;34m[\u001b[0m\u001b[0;34m]\u001b[0m\u001b[0;34m\u001b[0m\u001b[0m\n",
      "\u001b[0;32m~/anaconda3/envs/tensorflow_p36/lib/python3.6/site-packages/tensorflow/python/client/session.py\u001b[0m in \u001b[0;36m_do_run\u001b[0;34m(self, handle, target_list, fetch_list, feed_dict, options, run_metadata)\u001b[0m\n\u001b[1;32m   1319\u001b[0m     \u001b[0;32mif\u001b[0m \u001b[0mhandle\u001b[0m \u001b[0;32mis\u001b[0m \u001b[0;32mNone\u001b[0m\u001b[0;34m:\u001b[0m\u001b[0;34m\u001b[0m\u001b[0m\n\u001b[1;32m   1320\u001b[0m       return self._do_call(_run_fn, feeds, fetches, targets, options,\n\u001b[0;32m-> 1321\u001b[0;31m                            run_metadata)\n\u001b[0m\u001b[1;32m   1322\u001b[0m     \u001b[0;32melse\u001b[0m\u001b[0;34m:\u001b[0m\u001b[0;34m\u001b[0m\u001b[0m\n\u001b[1;32m   1323\u001b[0m       \u001b[0;32mreturn\u001b[0m \u001b[0mself\u001b[0m\u001b[0;34m.\u001b[0m\u001b[0m_do_call\u001b[0m\u001b[0;34m(\u001b[0m\u001b[0m_prun_fn\u001b[0m\u001b[0;34m,\u001b[0m \u001b[0mhandle\u001b[0m\u001b[0;34m,\u001b[0m \u001b[0mfeeds\u001b[0m\u001b[0;34m,\u001b[0m \u001b[0mfetches\u001b[0m\u001b[0;34m)\u001b[0m\u001b[0;34m\u001b[0m\u001b[0m\n",
      "\u001b[0;32m~/anaconda3/envs/tensorflow_p36/lib/python3.6/site-packages/tensorflow/python/client/session.py\u001b[0m in \u001b[0;36m_do_call\u001b[0;34m(self, fn, *args)\u001b[0m\n\u001b[1;32m   1325\u001b[0m   \u001b[0;32mdef\u001b[0m \u001b[0m_do_call\u001b[0m\u001b[0;34m(\u001b[0m\u001b[0mself\u001b[0m\u001b[0;34m,\u001b[0m \u001b[0mfn\u001b[0m\u001b[0;34m,\u001b[0m \u001b[0;34m*\u001b[0m\u001b[0margs\u001b[0m\u001b[0;34m)\u001b[0m\u001b[0;34m:\u001b[0m\u001b[0;34m\u001b[0m\u001b[0m\n\u001b[1;32m   1326\u001b[0m     \u001b[0;32mtry\u001b[0m\u001b[0;34m:\u001b[0m\u001b[0;34m\u001b[0m\u001b[0m\n\u001b[0;32m-> 1327\u001b[0;31m       \u001b[0;32mreturn\u001b[0m \u001b[0mfn\u001b[0m\u001b[0;34m(\u001b[0m\u001b[0;34m*\u001b[0m\u001b[0margs\u001b[0m\u001b[0;34m)\u001b[0m\u001b[0;34m\u001b[0m\u001b[0m\n\u001b[0m\u001b[1;32m   1328\u001b[0m     \u001b[0;32mexcept\u001b[0m \u001b[0merrors\u001b[0m\u001b[0;34m.\u001b[0m\u001b[0mOpError\u001b[0m \u001b[0;32mas\u001b[0m \u001b[0me\u001b[0m\u001b[0;34m:\u001b[0m\u001b[0;34m\u001b[0m\u001b[0m\n\u001b[1;32m   1329\u001b[0m       \u001b[0mmessage\u001b[0m \u001b[0;34m=\u001b[0m \u001b[0mcompat\u001b[0m\u001b[0;34m.\u001b[0m\u001b[0mas_text\u001b[0m\u001b[0;34m(\u001b[0m\u001b[0me\u001b[0m\u001b[0;34m.\u001b[0m\u001b[0mmessage\u001b[0m\u001b[0;34m)\u001b[0m\u001b[0;34m\u001b[0m\u001b[0m\n",
      "\u001b[0;32m~/anaconda3/envs/tensorflow_p36/lib/python3.6/site-packages/tensorflow/python/client/session.py\u001b[0m in \u001b[0;36m_run_fn\u001b[0;34m(feed_dict, fetch_list, target_list, options, run_metadata)\u001b[0m\n\u001b[1;32m   1310\u001b[0m       \u001b[0mself\u001b[0m\u001b[0;34m.\u001b[0m\u001b[0m_extend_graph\u001b[0m\u001b[0;34m(\u001b[0m\u001b[0;34m)\u001b[0m\u001b[0;34m\u001b[0m\u001b[0m\n\u001b[1;32m   1311\u001b[0m       return self._call_tf_sessionrun(\n\u001b[0;32m-> 1312\u001b[0;31m           options, feed_dict, fetch_list, target_list, run_metadata)\n\u001b[0m\u001b[1;32m   1313\u001b[0m \u001b[0;34m\u001b[0m\u001b[0m\n\u001b[1;32m   1314\u001b[0m     \u001b[0;32mdef\u001b[0m \u001b[0m_prun_fn\u001b[0m\u001b[0;34m(\u001b[0m\u001b[0mhandle\u001b[0m\u001b[0;34m,\u001b[0m \u001b[0mfeed_dict\u001b[0m\u001b[0;34m,\u001b[0m \u001b[0mfetch_list\u001b[0m\u001b[0;34m)\u001b[0m\u001b[0;34m:\u001b[0m\u001b[0;34m\u001b[0m\u001b[0m\n",
      "\u001b[0;32m~/anaconda3/envs/tensorflow_p36/lib/python3.6/site-packages/tensorflow/python/client/session.py\u001b[0m in \u001b[0;36m_call_tf_sessionrun\u001b[0;34m(self, options, feed_dict, fetch_list, target_list, run_metadata)\u001b[0m\n\u001b[1;32m   1418\u001b[0m         return tf_session.TF_Run(\n\u001b[1;32m   1419\u001b[0m             \u001b[0mself\u001b[0m\u001b[0;34m.\u001b[0m\u001b[0m_session\u001b[0m\u001b[0;34m,\u001b[0m \u001b[0moptions\u001b[0m\u001b[0;34m,\u001b[0m \u001b[0mfeed_dict\u001b[0m\u001b[0;34m,\u001b[0m \u001b[0mfetch_list\u001b[0m\u001b[0;34m,\u001b[0m \u001b[0mtarget_list\u001b[0m\u001b[0;34m,\u001b[0m\u001b[0;34m\u001b[0m\u001b[0m\n\u001b[0;32m-> 1420\u001b[0;31m             status, run_metadata)\n\u001b[0m\u001b[1;32m   1421\u001b[0m \u001b[0;34m\u001b[0m\u001b[0m\n\u001b[1;32m   1422\u001b[0m   \u001b[0;32mdef\u001b[0m \u001b[0m_call_tf_sessionprun\u001b[0m\u001b[0;34m(\u001b[0m\u001b[0mself\u001b[0m\u001b[0;34m,\u001b[0m \u001b[0mhandle\u001b[0m\u001b[0;34m,\u001b[0m \u001b[0mfeed_dict\u001b[0m\u001b[0;34m,\u001b[0m \u001b[0mfetch_list\u001b[0m\u001b[0;34m)\u001b[0m\u001b[0;34m:\u001b[0m\u001b[0;34m\u001b[0m\u001b[0m\n",
      "\u001b[0;31mKeyboardInterrupt\u001b[0m: "
     ]
    }
   ],
   "source": [
    "select_best_model(keras.applications.xception.Xception, (299, 299)\n",
    "                  , keras.applications.xception.preprocess_input, \"Xception\")"
   ]
  },
  {
   "cell_type": "markdown",
   "metadata": {},
   "source": [
    "## 模型Inception ResnetV2\n",
    "预训练模型Inception ResnetV2"
   ]
  },
  {
   "cell_type": "code",
   "execution_count": null,
   "metadata": {},
   "outputs": [],
   "source": [
    "select_best_model(keras.applications.inception_resnet_v2.InceptionResNetV2, (299, 299)\n",
    "                  , keras.applications.inception_resnet_v2.preprocess_input, \"Inception ResnetV2\")"
   ]
  },
  {
   "cell_type": "code",
   "execution_count": null,
   "metadata": {},
   "outputs": [],
   "source": []
  }
 ],
 "metadata": {
  "kernelspec": {
   "display_name": "Python [default]",
   "language": "python",
   "name": "python3"
  }
 },
 "nbformat": 4,
 "nbformat_minor": 2
}
